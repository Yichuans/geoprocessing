{
 "metadata": {
  "name": ""
 },
 "nbformat": 3,
 "nbformat_minor": 0,
 "worksheets": [
  {
   "cells": [
    {
     "cell_type": "code",
     "collapsed": false,
     "input": [
      "from rasterstats import raster_stats\n",
      "elev = '/data/projects/murdock/zonal_fcid_test/dem_aea2_feet.tif'\n",
      "polys = '/data/projects/murdock/zonal_fcid_test/fcid.shp'\n",
      "stats = raster_stats(polys, elev, stats=\"*\")\n",
      "len(stats)"
     ],
     "language": "python",
     "metadata": {},
     "outputs": [
      {
       "metadata": {},
       "output_type": "pyout",
       "prompt_number": 1,
       "text": [
        "20763"
       ]
      }
     ],
     "prompt_number": 1
    },
    {
     "cell_type": "markdown",
     "metadata": {},
     "source": [
      "We can ask interesting questions such as \"*What polygon has the highest standard deviation in elevation?*\" by sorting the list by the `std` key."
     ]
    },
    {
     "cell_type": "code",
     "collapsed": false,
     "input": [
      "sorted(stats, key=lambda k: k['std'], reverse=True)[0]"
     ],
     "language": "python",
     "metadata": {},
     "outputs": [
      {
       "metadata": {},
       "output_type": "pyout",
       "prompt_number": 2,
       "text": [
        "{'__fid__': 17038,\n",
        " 'count': 1087,\n",
        " 'majority': 1523.3047,\n",
        " 'max': 2710.309814453125,\n",
        " 'mean': 2199.236430542778,\n",
        " 'median': 2233.90380859375,\n",
        " 'min': 1457.9298095703125,\n",
        " 'std': 339.93001065442024,\n",
        " 'sum': 2390570.0}"
       ]
      }
     ],
     "prompt_number": 2
    },
    {
     "cell_type": "markdown",
     "metadata": {},
     "source": [
      "Let's see how this performs with a 4.8 MB raster and a 3.3MB shapefile with > 20k polygons. "
     ]
    },
    {
     "cell_type": "code",
     "collapsed": false,
     "input": [
      "%timeit raster_stats(polys, elev)"
     ],
     "language": "python",
     "metadata": {},
     "outputs": [
      {
       "output_type": "stream",
       "stream": "stdout",
       "text": [
        "1 loops, best of 3: 15.1 s per loop\n"
       ]
      }
     ],
     "prompt_number": 3
    },
    {
     "cell_type": "markdown",
     "metadata": {},
     "source": [
      "Compare that to other alternatives:\n",
      "\n",
      "* QGIS Zonal Statistics Plugin (only does count, sum and mean): 1 min 51 sec\n",
      "\n",
      "Much faster, plus rasterstats is running in a VM in this case! "
     ]
    },
    {
     "cell_type": "markdown",
     "metadata": {},
     "source": [
      "Let's try to optimize our raster_stats call by using `global_src_extent=True`. This will load the raster into memory once for the entire extent of the vector layer; less disk reads *can* mean better performance if raster access from disk is your limiting factor and you can fit the raster and resulting temporary arrays into memory! "
     ]
    },
    {
     "cell_type": "code",
     "collapsed": false,
     "input": [
      "%timeit raster_stats(polys, elev, global_src_extent=True)"
     ],
     "language": "python",
     "metadata": {},
     "outputs": [
      {
       "output_type": "stream",
       "stream": "stdout",
       "text": [
        "1 loops, best of 3: 14.9 s per loop\n"
       ]
      }
     ],
     "prompt_number": 4
    },
    {
     "cell_type": "markdown",
     "metadata": {},
     "source": [
      "No improvement at all. This indicates that the raster data source is relatively quick to read from disk. For other formats (such as jpeg or networked data sources) where the pixel values are slower to read from disk, the `global_src_extent` can increase performace."
     ]
    }
   ],
   "metadata": {}
  }
 ]
}