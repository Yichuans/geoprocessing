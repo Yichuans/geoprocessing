{
 "metadata": {
  "name": ""
 },
 "nbformat": 3,
 "nbformat_minor": 0,
 "worksheets": [
  {
   "cells": [
    {
     "cell_type": "markdown",
     "metadata": {},
     "source": [
      "First off, installing on windows is a bit tricker than other operating systems. I'm assuming you already have ArcGIS/arcpy installed. We have to manually seak out and install the other dependencies...  \n",
      "\n",
      "Grab the following packages and install them normally\n",
      "\n",
      "* `gdal-110-1500-core.msi` and `GDAL-1.10.0.win32-py2.7.msi` from http://www.gisinternals.com/sdk/PackageList.aspx?file=release-1500-gdal-mapserver.zip\n",
      "* `numpy-1.7.1.win32-py2.7.exe` from https://pypi.python.org/pypi/numpy\n",
      "* `Shapely-1.2.18.win32-py2.7.exe` from http://www.lfd.uci.edu/~gohlke/pythonlibs/\n",
      "* The latest version of rasterstats, e.g. `rasterstats-0.3.2.win32.exe` from https://pypi.python.org/pypi/rasterstats\n",
      "\n",
      "If you're using ArcGIS 10+, you probably have a system-wide python installation at `C:\\\\Python27\\\\ArcGIS10\\\\`. *If* there are other versions of python in your registry, you'll want to point the python installers here. Otherwise, it should be picked up as the default. \n",
      "\n",
      "Now we're ready to use the `rasterstats` module alongside `arcpy`."
     ]
    },
    {
     "cell_type": "code",
     "collapsed": false,
     "input": [
      "from rasterstats import raster_stats\n",
      "import arcpy\n",
      "arcpy.env = 'E:\\\\workspace\\\\rasterstats_blog'\n",
      "states = 'E:\\\\workspace\\\\rasterstats_blog\\\\boundaries_contus.shp'\n",
      "precip = 'E:\\\\workspace\\\\rasterstats_blog\\\\NA_Annual_Precipitation_GRID\\\\NA_Annual_Precipitation\\\\data\\\\na_anprecip\\\\hdr.adf'"
     ],
     "language": "python",
     "metadata": {},
     "outputs": [],
     "prompt_number": 4
    },
    {
     "cell_type": "markdown",
     "metadata": {},
     "source": [
      "One technique would be to use the arcpy SearchCursor to iterate through the features. This allows us to catch errors that result from ESRI's slightly broken implementation of the `__geo_interface__`"
     ]
    },
    {
     "cell_type": "code",
     "collapsed": false,
     "input": [
      "def get_stats(shp):\n",
      "    cursor = arcpy.SearchCursor(shp)\n",
      "\n",
      "    stats = []\n",
      "    for feature in cursor:\n",
      "        geom = feature.Shape\n",
      "    \n",
      "        try:\n",
      "            rain_stats = raster_stats(geom, precip, stats=\"*\")[0]\n",
      "        except TypeError:\n",
      "            # arcpy's geo_interface is broken; reports type=polygon for some multipolygons\n",
      "            # fall back to WKT\n",
      "            rain_stats = raster_stats(geom.WKT, precip, stats=\"*\")[0]\n",
      "    \n",
      "        #rain_stats['NAME'] = feature.NAME\n",
      "        #rain_stats['__fid__'] = feature.FID\n",
      "        stats.append(rain_stats)\n",
      "    return stats\n",
      "\n",
      "%timeit stats = get_stats(states)\n"
     ],
     "language": "python",
     "metadata": {},
     "outputs": [
      {
       "output_type": "stream",
       "stream": "stdout",
       "text": [
        "1 loops, best of 3: 57.9 s per loop\n"
       ]
      }
     ],
     "prompt_number": 9
    },
    {
     "cell_type": "code",
     "collapsed": false,
     "input": [
      "print [x for x in stats if x['NAME'] == \"Oregon\"][0]"
     ],
     "language": "python",
     "metadata": {},
     "outputs": [
      {
       "output_type": "stream",
       "stream": "stdout",
       "text": [
        "{'count': 250510, 'std': 631.539502512283, 'minority': 3193, 'min': 205.0, 'max': 3193.0, 'sum': 195203001.0, 'median': 461.0, 'majority': 263, 'range': 2988.0, 'NAME': u'Oregon', 'unique': 2865, '__fid__': 35, 'mean': 779.2223903237395}\n"
       ]
      }
     ],
     "prompt_number": 6
    },
    {
     "cell_type": "code",
     "collapsed": false,
     "input": [
      "# Try it the straight rasterstats way\n",
      "%timeit stats = raster_stats(states, precip, stats=\"*\")"
     ],
     "language": "python",
     "metadata": {},
     "outputs": [
      {
       "output_type": "stream",
       "stream": "stdout",
       "text": [
        "1 loops, best of 3: 8.25 s per loop\n"
       ]
      }
     ],
     "prompt_number": 7
    },
    {
     "cell_type": "code",
     "collapsed": false,
     "input": [
      "print [x for x in stats if x['NAME'] == \"Oregon\"][0]  # same as before"
     ],
     "language": "python",
     "metadata": {},
     "outputs": [
      {
       "output_type": "stream",
       "stream": "stdout",
       "text": [
        "{'count': 250510, 'std': 631.539502512283, 'minority': 3193, 'min': 205.0, 'max': 3193.0, 'sum': 195203001.0, 'median': 461.0, 'majority': 263, 'range': 2988.0, 'NAME': u'Oregon', 'unique': 2865, '__fid__': 35, 'mean': 779.2223903237395}\n"
       ]
      }
     ],
     "prompt_number": 8
    },
    {
     "cell_type": "code",
     "collapsed": false,
     "input": [],
     "language": "python",
     "metadata": {},
     "outputs": []
    }
   ],
   "metadata": {}
  }
 ]
}