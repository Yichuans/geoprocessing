{
 "metadata": {
  "name": "",
  "signature": "sha256:43448490895891c0065b66ecc3922de1faf27dbfc41e2985754a4b64e3762ecd"
 },
 "nbformat": 3,
 "nbformat_minor": 0,
 "worksheets": [
  {
   "cells": [
    {
     "cell_type": "markdown",
     "metadata": {},
     "source": [
      "# Integrating with GeoPandas and Numpy\n",
      "\n",
      "`rasterstats` has mainly operated on file-based vector and raster data sources. As of version `0.4`, we've added the ability to work with in-memory representations of vector and raster data:\n",
      "\n",
      "* [GeoPandas](http://geopandas.org) provides a `GeoDataFrame` for vector data\n",
      "* [Numpy](http://www.numpy.org/) provide `ndarrays` which can be used as a raster data source (with some additional metadata for georeferencing)\n",
      "\n",
      "In this example you'll learn how to load vectors into `GeoDataFrames` and rasters into `ndarrays` and inspect the results. Then we'll run zonal statistics on the two datasets, bring it back into a `GeoDataFrames` and write the results to a GeoJSON file."
     ]
    },
    {
     "cell_type": "markdown",
     "metadata": {},
     "source": [
      "### Vector Data via GeoPandas\n",
      "Let's load up some example vector data into a GeoDataFrame. We can see the shapes plotted as a map"
     ]
    },
    {
     "cell_type": "code",
     "collapsed": false,
     "input": [
      "import geopandas as gpd\n",
      "geodf = gpd.GeoDataFrame.from_file('../tests/data/polygons.shp')\n",
      "geodf.plot()"
     ],
     "language": "python",
     "metadata": {},
     "outputs": [
      {
       "metadata": {},
       "output_type": "pyout",
       "prompt_number": 9,
       "text": [
        "<matplotlib.axes.AxesSubplot at 0x7f2a25414090>"
       ]
      },
      {
       "metadata": {},
       "output_type": "display_data",
       "png": "[encoded data removed]",
       "text": [
        "<matplotlib.figure.Figure at 0x7f2a25414150>"
       ]
      }
     ],
     "prompt_number": 9
    },
    {
     "cell_type": "markdown",
     "metadata": {},
     "source": [
      "... or view it as a table"
     ]
    },
    {
     "cell_type": "code",
     "collapsed": false,
     "input": [
      "geodf"
     ],
     "language": "python",
     "metadata": {},
     "outputs": [
      {
       "html": [
        "<div style=\"max-height:1000px;max-width:1500px;overflow:auto;\">\n",
        "<table border=\"1\" class=\"dataframe\">\n",
        "  <thead>\n",
        "    <tr style=\"text-align: right;\">\n",
        "      <th></th>\n",
        "      <th>geometry</th>\n",
        "      <th>id</th>\n",
        "    </tr>\n",
        "  </thead>\n",
        "  <tbody>\n",
        "    <tr>\n",
        "      <th>0</th>\n",
        "      <td> POLYGON ((244697.4517952438 1000369.230757494,...</td>\n",
        "      <td> 1</td>\n",
        "    </tr>\n",
        "    <tr>\n",
        "      <th>1</th>\n",
        "      <td> POLYGON ((246082.2236020251 1000453.156321541,...</td>\n",
        "      <td> 2</td>\n",
        "    </tr>\n",
        "  </tbody>\n",
        "</table>\n",
        "</div>"
       ],
       "metadata": {},
       "output_type": "pyout",
       "prompt_number": 10,
       "text": [
        "                                            geometry  id\n",
        "0  POLYGON ((244697.4517952438 1000369.230757494,...   1\n",
        "1  POLYGON ((246082.2236020251 1000453.156321541,...   2"
       ]
      }
     ],
     "prompt_number": 10
    },
    {
     "cell_type": "markdown",
     "metadata": {},
     "source": [
      "### Raster Data via Numpy\n",
      "\n",
      "We can use the `rasterio` package to bring GDAL-supported data formats into our python session as numpy arrays. Note that we need to keep track of the georeferencing explicitly by storing the `transform` tuple."
     ]
    },
    {
     "cell_type": "code",
     "collapsed": false,
     "input": [
      "import rasterio\n",
      "with rasterio.open(\"../tests/data/slope.tif\") as src:\n",
      "    transform = src.meta['transform']\n",
      "    array = src.read_band(1)\n",
      "\n",
      "print (transform)\n",
      "array"
     ],
     "language": "python",
     "metadata": {},
     "outputs": [
      {
       "output_type": "stream",
       "stream": "stdout",
       "text": [
        "[244300.61494985913, 25.52514657450613, 0.0, 1000868.7876863468, 0.0, -25.52514657450613]\n"
       ]
      },
      {
       "metadata": {},
       "output_type": "pyout",
       "prompt_number": 12,
       "text": [
        "array([[-9999., -9999., -9999., ..., -9999., -9999., -9999.],\n",
        "       [-9999.,     0.,     0., ...,     0.,     0., -9999.],\n",
        "       [-9999.,     0.,     0., ...,     0.,     0., -9999.],\n",
        "       ..., \n",
        "       [-9999.,     0.,     0., ...,     0.,     0., -9999.],\n",
        "       [-9999.,     0.,     0., ...,     0.,     0., -9999.],\n",
        "       [-9999., -9999., -9999., ..., -9999., -9999., -9999.]], dtype=float32)"
       ]
      }
     ],
     "prompt_number": 12
    },
    {
     "cell_type": "markdown",
     "metadata": {},
     "source": [
      "Because it's an `ndarray`, we have the entire numpy and scipy world available to us to work on the data."
     ]
    },
    {
     "cell_type": "code",
     "collapsed": false,
     "input": [
      "array_chop = array[5:-5,5:-5]  # chop off the outer 5 pixels"
     ],
     "language": "python",
     "metadata": {},
     "outputs": [],
     "prompt_number": 13
    },
    {
     "cell_type": "markdown",
     "metadata": {},
     "source": [
      "With a few lines of matplotlib glue, we can plot a map of the data."
     ]
    },
    {
     "cell_type": "code",
     "collapsed": false,
     "input": [
      "import matplotlib.pyplot as plt\n",
      "plt.imshow(array_chop, interpolation='nearest')\n",
      "plt.colorbar()\n",
      "plt.title('Slope Map')\n",
      "plt.show()"
     ],
     "language": "python",
     "metadata": {},
     "outputs": [
      {
       "metadata": {},
       "output_type": "display_data",
       "png": "[encoded data removed]",
       "text": [
        "<matplotlib.figure.Figure at 0x7f2a249a4690>"
       ]
      }
     ],
     "prompt_number": 14
    },
    {
     "cell_type": "markdown",
     "metadata": {},
     "source": [
      "### Running zonal statistics on GeoDataFrames and ndarrays\n",
      "\n",
      "Now that we have our vectors and raster data loaded into the python session, we can work with `zonal_stats` directly rather than serializing them to disk."
     ]
    },
    {
     "cell_type": "code",
     "collapsed": false,
     "input": [
      "from rasterstats import zonal_stats\n",
      "zonal_stats(geodf, array)"
     ],
     "language": "python",
     "metadata": {},
     "outputs": [
      {
       "ename": "RasterStatsError",
       "evalue": "Must provide the 'transform' kwarg when using ndarrays as src raster",
       "output_type": "pyerr",
       "traceback": [
        "\u001b[1;31m---------------------------------------------------------------------------\u001b[0m\n\u001b[1;31mRasterStatsError\u001b[0m                          Traceback (most recent call last)",
        "\u001b[1;32m<ipython-input-11-c44947387cef>\u001b[0m in \u001b[0;36m<module>\u001b[1;34m()\u001b[0m\n\u001b[0;32m      1\u001b[0m \u001b[1;32mfrom\u001b[0m \u001b[0mrasterstats\u001b[0m \u001b[1;32mimport\u001b[0m \u001b[0mzonal_stats\u001b[0m\u001b[1;33m\u001b[0m\u001b[0m\n\u001b[1;32m----> 2\u001b[1;33m \u001b[0mzonal_stats\u001b[0m\u001b[1;33m(\u001b[0m\u001b[0mgeodf\u001b[0m\u001b[1;33m,\u001b[0m \u001b[0marray\u001b[0m\u001b[1;33m)\u001b[0m\u001b[1;33m\u001b[0m\u001b[0m\n\u001b[0m",
        "\u001b[1;32m/home/mperry/src/python-raster-stats/src/rasterstats/main.pyc\u001b[0m in \u001b[0;36mzonal_stats\u001b[1;34m(vectors, raster, layer_num, band_num, nodata_value, global_src_extent, categorical, stats, copy_properties, all_touched, transform)\u001b[0m\n\u001b[0;32m     58\u001b[0m         \u001b[1;31m# must have transform arg\u001b[0m\u001b[1;33m\u001b[0m\u001b[1;33m\u001b[0m\u001b[0m\n\u001b[0;32m     59\u001b[0m         \u001b[1;32mif\u001b[0m \u001b[1;32mnot\u001b[0m \u001b[0mtransform\u001b[0m\u001b[1;33m:\u001b[0m\u001b[1;33m\u001b[0m\u001b[0m\n\u001b[1;32m---> 60\u001b[1;33m             raise RasterStatsError(\"Must provide the 'transform' kwarg when \"\\\n\u001b[0m\u001b[0;32m     61\u001b[0m                 \"using ndarrays as src raster\")\n\u001b[0;32m     62\u001b[0m         \u001b[0mrgt\u001b[0m \u001b[1;33m=\u001b[0m \u001b[0mtransform\u001b[0m\u001b[1;33m\u001b[0m\u001b[0m\n",
        "\u001b[1;31mRasterStatsError\u001b[0m: Must provide the 'transform' kwarg when using ndarrays as src raster"
       ]
      }
     ],
     "prompt_number": 11
    },
    {
     "cell_type": "markdown",
     "metadata": {},
     "source": [
      "What happened? Because the ndarrays are not geo-aware (they are just in array coordinates) we need to specify the `transform` tuple to specify exactly how the cells align with our spatial reference system.\n",
      "\n",
      "The tuple contains 6 elements which correspond to:\n",
      "\n",
      "0. top left easting or X coordinate\n",
      "1. West-East pixel resolution\n",
      "2. rotation (typically 0 if image is \"north up\")\n",
      "3. top left northing or Y coordinate\n",
      "4. rotation, (typically 0 if image is \"north up\")\n",
      "5. North-South pixel resolution (typically -1 * W-E resolution)\n",
      "\n",
      "You can construct this by hand if necessary but it's handy to use the coordinates from the source dataset, provided the dimensions of the array have not changed. "
     ]
    },
    {
     "cell_type": "code",
     "collapsed": false,
     "input": [
      "transform"
     ],
     "language": "python",
     "metadata": {},
     "outputs": [
      {
       "metadata": {},
       "output_type": "pyout",
       "prompt_number": 15,
       "text": [
        "[244300.61494985913,\n",
        " 25.52514657450613,\n",
        " 0.0,\n",
        " 1000868.7876863468,\n",
        " 0.0,\n",
        " -25.52514657450613]"
       ]
      }
     ],
     "prompt_number": 15
    },
    {
     "cell_type": "markdown",
     "metadata": {},
     "source": [
      "With the array and the transform information, we can run `zonal_stats` without complaint."
     ]
    },
    {
     "cell_type": "code",
     "collapsed": false,
     "input": [
      "stats = zonal_stats(geodf, array, transform=transform)\n",
      "stats"
     ],
     "language": "python",
     "metadata": {},
     "outputs": [
      {
       "metadata": {},
       "output_type": "pyout",
       "prompt_number": 19,
       "text": [
        "[{'__fid__': 0,\n",
        "  'count': 75,\n",
        "  'max': 22.273418426513672,\n",
        "  'mean': 14.660084635416666,\n",
        "  'min': 6.575114727020264},\n",
        " {'__fid__': 1,\n",
        "  'count': 50,\n",
        "  'max': 82.69043731689453,\n",
        "  'mean': 56.6057470703125,\n",
        "  'min': 16.940950393676758}]"
       ]
      }
     ],
     "prompt_number": 19
    },
    {
     "cell_type": "markdown",
     "metadata": {},
     "source": [
      "### Back to GeoDataFrames\n",
      "\n",
      "The \"list of dicts\" representation of zonal statistics is helpful but we will often want to join these attributes back to the original `GeoDataFrame` in order to continue working with them. For example, we may want to do some additional calculations and write it out to a GeoJSON file.\n",
      "\n",
      "Luckily (geo)pandas has some very intuitive constructors and methods that make this simple:"
     ]
    },
    {
     "cell_type": "code",
     "collapsed": false,
     "input": [
      "import pandas as pd\n",
      "\n",
      "new_geodf = geodf.join(pd.DataFrame(stats))\n",
      "new_geodf"
     ],
     "language": "python",
     "metadata": {},
     "outputs": [
      {
       "html": [
        "<div style=\"max-height:1000px;max-width:1500px;overflow:auto;\">\n",
        "<table border=\"1\" class=\"dataframe\">\n",
        "  <thead>\n",
        "    <tr style=\"text-align: right;\">\n",
        "      <th></th>\n",
        "      <th>geometry</th>\n",
        "      <th>id</th>\n",
        "      <th>__fid__</th>\n",
        "      <th>count</th>\n",
        "      <th>max</th>\n",
        "      <th>mean</th>\n",
        "      <th>min</th>\n",
        "    </tr>\n",
        "  </thead>\n",
        "  <tbody>\n",
        "    <tr>\n",
        "      <th>0</th>\n",
        "      <td> POLYGON ((244697.4517952438 1000369.230757494,...</td>\n",
        "      <td> 1</td>\n",
        "      <td> 0</td>\n",
        "      <td> 75</td>\n",
        "      <td> 22.273418</td>\n",
        "      <td> 14.660085</td>\n",
        "      <td>  6.575115</td>\n",
        "    </tr>\n",
        "    <tr>\n",
        "      <th>1</th>\n",
        "      <td> POLYGON ((246082.2236020251 1000453.156321541,...</td>\n",
        "      <td> 2</td>\n",
        "      <td> 1</td>\n",
        "      <td> 50</td>\n",
        "      <td> 82.690437</td>\n",
        "      <td> 56.605747</td>\n",
        "      <td> 16.940950</td>\n",
        "    </tr>\n",
        "  </tbody>\n",
        "</table>\n",
        "</div>"
       ],
       "metadata": {},
       "output_type": "pyout",
       "prompt_number": 27,
       "text": [
        "                                            geometry  id  __fid__  count  \\\n",
        "0  POLYGON ((244697.4517952438 1000369.230757494,...   1        0     75   \n",
        "1  POLYGON ((246082.2236020251 1000453.156321541,...   2        1     50   \n",
        "\n",
        "         max       mean        min  \n",
        "0  22.273418  14.660085   6.575115  \n",
        "1  82.690437  56.605747  16.940950  "
       ]
      }
     ],
     "prompt_number": 27
    },
    {
     "cell_type": "markdown",
     "metadata": {},
     "source": [
      "And to write it out to a vector file like GeoJSON\n",
      "\n",
      "** This currently does not work because the geodf.join method returns as standard DataFrame, not a GeoDataFrame! This bug should be fixed shortly... **"
     ]
    },
    {
     "cell_type": "code",
     "collapsed": false,
     "input": [
      "## Hack around it for now\n",
      "new_geodf.__class__ = gpd.GeoDataFrame\n",
      "new_geodf.crs = {}\n",
      "new_geodf.set_geometry('geometry')\n",
      "## /hack\n",
      "\n",
      "! rm /tmp/polygons_with_slope.geojson\n",
      "new_geodf.to_file('/tmp/polygons_with_slope.geojson', driver=\"GeoJSON\")\n",
      "\n",
      "# Confirm that everything works according to OGR\n",
      "! ogrinfo -ro -al /tmp/polygons_with_slope.geojson"
     ],
     "language": "python",
     "metadata": {},
     "outputs": [
      {
       "output_type": "stream",
       "stream": "stdout",
       "text": [
        "INFO: Open of `/tmp/polygons_with_slope.geojson'\r\n",
        "      using driver `GeoJSON' successful.\r\n",
        "\r\n",
        "Layer name: OGRGeoJSON\r\n",
        "Geometry: Polygon\r\n",
        "Feature Count: 2\r\n",
        "Extent: (244697.451795, 1000132.713259) - (246189.037956, 1000460.785918)\r\n",
        "Layer SRS WKT:\r\n",
        "GEOGCS[\"WGS 84\",\r\n",
        "    DATUM[\"WGS_1984\",\r\n",
        "        SPHEROID[\"WGS 84\",6378137,298.257223563,\r\n",
        "            AUTHORITY[\"EPSG\",\"7030\"]],\r\n",
        "        AUTHORITY[\"EPSG\",\"6326\"]],\r\n",
        "    PRIMEM[\"Greenwich\",0,\r\n",
        "        AUTHORITY[\"EPSG\",\"8901\"]],\r\n",
        "    UNIT[\"degree\",0.0174532925199433,\r\n",
        "        AUTHORITY[\"EPSG\",\"9122\"]],\r\n",
        "    AUTHORITY[\"EPSG\",\"4326\"]]\r\n",
        "FID Column = id\r\n",
        "id: Integer (0.0)\r\n",
        "__fid__: Integer (0.0)\r\n",
        "count: Integer (0.0)\r\n",
        "max: Real (0.0)\r\n",
        "mean: Real (0.0)\r\n",
        "min: Real (0.0)\r\n",
        "OGRFeature(OGRGeoJSON):1\r\n",
        "  id (Integer) = 1\r\n",
        "  __fid__ (Integer) = 0\r\n",
        "  count (Integer) = 75\r\n",
        "  max (Real) = 22.2734184265137\r\n",
        "  mean (Real) = 14.6600846354167\r\n",
        "  min (Real) = 6.57511472702026\r\n",
        "  POLYGON ((244697.451795243832748 1000369.230757493642159,244827.154939680622192 1000373.045555859454907,244933.969293922709767 1000353.971564030507579,244933.969293922709767 1000353.971564030507579,244930.154495556926122 1000147.97245227789972,244697.451795243832748 1000159.41684737522155,244697.451795243832748 1000369.230757493642159))\r\n",
        "\r\n",
        "OGRFeature(OGRGeoJSON):2\r\n",
        "  id (Integer) = 2\r\n",
        "  __fid__ (Integer) = 1\r\n",
        "  count (Integer) = 50\r\n",
        "  max (Real) = 82.6904373168945\r\n",
        "  mean (Real) = 56.6057470703125\r\n",
        "  min (Real) = 16.9409503936768\r\n",
        "  POLYGON ((246082.223602025071159 1000453.156321540940553,246139.445577511884039 1000460.78591827256605,246189.03795626712963 1000403.563942785724066,246189.03795626712963 1000403.563942785724066,246086.038400390854804 1000132.71325881476514,245990.668441246147268 1000205.194427764741704,246082.223602025071159 1000453.156321540940553))\r\n",
        "\r\n"
       ]
      }
     ],
     "prompt_number": 33
    }
   ],
   "metadata": {}
  }
 ]
}