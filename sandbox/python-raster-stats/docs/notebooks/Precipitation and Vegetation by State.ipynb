{
 "metadata": {
  "name": ""
 },
 "nbformat": 3,
 "nbformat_minor": 0,
 "worksheets": [
  {
   "cells": [
    {
     "cell_type": "markdown",
     "metadata": {},
     "source": [
      "A common task in many of my data workflows involves summarizing geospatial raster datasets based on vector geometries (i.e. zonal statistics). Despite many alternatives (starspan, the QGIS Zonal Statistics plugin, ArcPy and R) there were none that were\n",
      "\n",
      "* open source\n",
      "* fast enough\n",
      "* flexible enough\n",
      "* worked with python data structures\n",
      "\n",
      "We'd written a wrapper around starspan for madrona (see [`madrona.raster_stats`](https://github.com/Ecotrust/madrona/blob/master/docs/raster_stats.rst)) but relying on shell calls and an aging, unmaintained C++ code base was not cutting it. \n",
      "\n",
      "So I set out to create a solution using numpy, GDAL and python. The `rasterstats` package was born..."
     ]
    },
    {
     "cell_type": "markdown",
     "metadata": {},
     "source": [
      "Let's jump into an example. I've got a polygon shapefile of continental US *state boundaries* and a raster dataset of *annual precipitation* from the [North American Environmental Atlas](http://www.cec.org/Page.asp?PageID=924&ContentID=2336). \n",
      "\n"
     ]
    },
    {
     "cell_type": "code",
     "collapsed": false,
     "input": [
      "states = \"/data/workspace/rasterstats_blog/boundaries_contus.shp\"\n",
      "precip = \"/data/workspace/rasterstats_blog/NA_Annual_Precipitation_GRID/NA_Annual_Precipitation/data/na_anprecip/hdr.adf\""
     ],
     "language": "python",
     "metadata": {},
     "outputs": [],
     "prompt_number": "*"
    },
    {
     "cell_type": "markdown",
     "metadata": {},
     "source": [
      "The `raster_stats` function is the main entry point. Provide a vector and a raster as input and expect a list of dicts, one for each input feature. "
     ]
    },
    {
     "cell_type": "code",
     "collapsed": false,
     "input": [
      "from rasterstats import raster_stats\n",
      "rain_stats = raster_stats(states, precip, stats=\"*\", copy_properties=True)\n",
      "len(rain_stats)  # continental US; 48 states plus District of Columbia"
     ],
     "language": "python",
     "metadata": {},
     "outputs": [
      {
       "metadata": {},
       "output_type": "pyout",
       "prompt_number": 5,
       "text": [
        "49"
       ]
      }
     ],
     "prompt_number": "*"
    },
    {
     "cell_type": "markdown",
     "metadata": {},
     "source": [
      "Print out the stats for a given state:"
     ]
    },
    {
     "cell_type": "code",
     "collapsed": true,
     "input": [
      "[x for x in rain_stats if x['NAME'] == \"Oregon\"][0]"
     ],
     "language": "python",
     "metadata": {},
     "outputs": [
      {
       "metadata": {},
       "output_type": "pyout",
       "prompt_number": 6,
       "text": [
        "{'COUNTRY': 'USA',\n",
        " 'EDIT': 'NEW',\n",
        " 'EDIT_DATE': '20060803',\n",
        " 'NAME': 'Oregon',\n",
        " 'STATEABB': 'US-OR',\n",
        " 'Shape_Area': 250563567264.0,\n",
        " 'Shape_Leng': 2366783.00361,\n",
        " 'UIDENT': 124704,\n",
        " '__fid__': 35,\n",
        " 'count': 250510,\n",
        " 'majority': 263,\n",
        " 'max': 3193.0,\n",
        " 'mean': 779.2223903237395,\n",
        " 'median': 461.0,\n",
        " 'min': 205.0,\n",
        " 'minority': 3193,\n",
        " 'range': 2988.0,\n",
        " 'std': 631.539502512283,\n",
        " 'sum': 195203001.0,\n",
        " 'unique': 2865}"
       ]
      }
     ],
     "prompt_number": "*"
    },
    {
     "cell_type": "markdown",
     "metadata": {},
     "source": [
      "Find the three driest states:"
     ]
    },
    {
     "cell_type": "code",
     "collapsed": false,
     "input": [
      "[(x['NAME'], x['mean']) for x in \n",
      "       sorted(rain_stats, key=lambda k: k['mean'])[:3]]"
     ],
     "language": "python",
     "metadata": {},
     "outputs": [
      {
       "metadata": {},
       "output_type": "pyout",
       "prompt_number": 7,
       "text": [
        "[('Nevada', 248.23814034118908),\n",
        " ('Utah', 317.668743027571),\n",
        " ('Arizona', 320.6157232064074)]"
       ]
      }
     ],
     "prompt_number": "*"
    },
    {
     "cell_type": "markdown",
     "metadata": {},
     "source": [
      "And write the data out to a csv."
     ]
    },
    {
     "cell_type": "code",
     "collapsed": false,
     "input": [
      "from rasterstats import stats_to_csv\n",
      "with open('out.csv', 'w') as fh:\n",
      "    fh.write(stats_to_csv(rain_stats))\n"
     ],
     "language": "python",
     "metadata": {},
     "outputs": [],
     "prompt_number": "*"
    },
    {
     "cell_type": "markdown",
     "metadata": {},
     "source": [
      "We're not limited to descriptive statistics for *continuous* rasters either; we can get unique pixel counts for *categorical* rasters as well. In this example, we've got a raster of 2005 land cover (i.e. general vegetation type). Note that we can specify only the stats that make sense and the `categorical=True` provides a count of each pixel value."
     ]
    },
    {
     "cell_type": "code",
     "collapsed": false,
     "input": [
      "landcover = \"/data/workspace/rasterstats_blog/NA_LandCover_2005.img\"\n",
      "\n",
      "veg_stats = raster_stats(states, landcover, \n",
      "    stats=\"count majority minority unique\",\n",
      "    copy_properties=True,\n",
      "    nodata_value=0,\n",
      "    categorical=True)\n",
      "\n",
      "[x for x in veg_stats if x['NAME'] == \"Oregon\"][0]"
     ],
     "language": "python",
     "metadata": {},
     "outputs": [
      {
       "metadata": {},
       "output_type": "pyout",
       "prompt_number": 9,
       "text": [
        "{1: 999956,\n",
        " 3: 6,\n",
        " 5: 3005,\n",
        " 6: 198535,\n",
        " 8: 2270805,\n",
        " 10: 126199,\n",
        " 14: 20883,\n",
        " 15: 301884,\n",
        " 16: 17452,\n",
        " 17: 39246,\n",
        " 18: 28872,\n",
        " 19: 2174,\n",
        " 'COUNTRY': 'USA',\n",
        " 'EDIT': 'NEW',\n",
        " 'EDIT_DATE': '20060803',\n",
        " 'NAME': 'Oregon',\n",
        " 'STATEABB': 'US-OR',\n",
        " 'Shape_Area': 250563567264.0,\n",
        " 'Shape_Leng': 2366783.00361,\n",
        " 'UIDENT': 124704,\n",
        " '__fid__': 35,\n",
        " 'count': 4009017,\n",
        " 'majority': 8,\n",
        " 'minority': 3,\n",
        " 'unique': 12}"
       ]
      },
      {
       "metadata": {},
       "output_type": "pyout",
       "prompt_number": 10,
       "text": [
        "{1: 999956,\n",
        " 3: 6,\n",
        " 5: 3005,\n",
        " 6: 198535,\n",
        " 8: 2270805,\n",
        " 10: 126199,\n",
        " 14: 20883,\n",
        " 15: 301884,\n",
        " 16: 17452,\n",
        " 17: 39246,\n",
        " 18: 28872,\n",
        " 19: 2174,\n",
        " 'COUNTRY': 'USA',\n",
        " 'EDIT': 'NEW',\n",
        " 'EDIT_DATE': '20060803',\n",
        " 'NAME': 'Oregon',\n",
        " 'STATEABB': 'US-OR',\n",
        " 'Shape_Area': 250563567264.0,\n",
        " 'Shape_Leng': 2366783.00361,\n",
        " 'UIDENT': 124704,\n",
        " '__fid__': 35,\n",
        " 'count': 4009017,\n",
        " 'majority': 8,\n",
        " 'minority': 3,\n",
        " 'unique': 12}"
       ]
      }
     ],
     "prompt_number": "*"
    },
    {
     "cell_type": "markdown",
     "metadata": {},
     "source": [
      "Of course the pixel values alone don't make much sense. We need to interpret the pixel values as land cover classes:\n",
      "\n",
      "```\n",
      "Value, Class_name\n",
      "1\tTemperate or sub-polar needleleaf forest\n",
      "2\tSub-polar taiga needleleaf forest\n",
      "3\tTropical or sub-tropical broadleaf evergreen\n",
      "4\tTropical or sub-tropical broadleaf deciduous\n",
      "5\tTemperate or sub-polar broadleaf deciduous\n",
      "6\t Mixed Forest\n",
      "7\tTropical or sub-tropical shrubland\n",
      "8\tTemperate or sub-polar shrubland\n",
      "9\tTropical or sub-tropical grassland\n",
      "10\tTemperate or sub-polar grassland\n",
      "11\tSub-polar or polar shrubland-lichen-moss\n",
      "12\tSub-polar or polar grassland-lichen-moss\n",
      "13\tSub-polar or polar barren-lichen-moss\n",
      "14\tWetland\n",
      "15\tCropland\n",
      "16\tBarren Lands\n",
      "17\tUrban and Built-up\n",
      "18\tWater\n",
      "19\tSnow and Ice\n",
      "```\n",
      "So, for our Oregon example above we can see that, despite Oregon's reputation as a lush green landscape, the majority land cover class (#8) is \"Temperate or sub-polar shrubland\" at 2.27m pixels out of 4 millions total. "
     ]
    },
    {
     "cell_type": "code",
     "collapsed": false,
     "input": [
      "geom = {'coordinates': [[\n",
      "   [-594335.108537269, -570957.932799394],\n",
      "   [-422374.54395311, -593387.5716581973],\n",
      "   [-444804.1828119133, -765348.1362423564],\n",
      "   [-631717.839968608, -735441.9510972851],\n",
      "   [-594335.108537269, -570957.932799394]]],\n",
      " 'type': 'Polygon'}\n",
      "\n",
      "raster_stats(geom, precip, stats=\"min median max\")\n"
     ],
     "language": "python",
     "metadata": {},
     "outputs": [
      {
       "metadata": {},
       "output_type": "pyout",
       "prompt_number": 14,
       "text": [
        "[{'__fid__': 0, 'max': 1011.0, 'median': 451.0, 'min': 229.0}]"
       ]
      }
     ],
     "prompt_number": "*"
    },
    {
     "cell_type": "code",
     "collapsed": false,
     "input": [],
     "language": "python",
     "metadata": {},
     "outputs": []
    }
   ],
   "metadata": {}
  }
 ]
}